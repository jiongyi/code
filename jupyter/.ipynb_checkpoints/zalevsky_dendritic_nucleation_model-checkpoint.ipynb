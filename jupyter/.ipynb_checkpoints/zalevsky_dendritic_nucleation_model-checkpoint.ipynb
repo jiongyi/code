{
 "cells": [
  {
   "cell_type": "code",
   "execution_count": 3,
   "metadata": {},
   "outputs": [
    {
     "data": {
      "image/png": "[encoded data removed]",
      "text/plain": [
       "<matplotlib.figure.Figure at 0x7fe672749c88>"
      ]
     },
     "metadata": {},
     "output_type": "display_data"
    }
   ],
   "source": [
    "\"\"\"\n",
    "Dendritic nucleation model from Zalevsky et al., Current Biology, Vol 11 No 24\n",
    "\"\"\"\n",
    "import numpy as np\n",
    "import matplotlib.pyplot as plt\n",
    "\n",
    "\n",
    "# Rate constants\n",
    "k_1a_for = 5.5\n",
    "k_1a_rev = 3\n",
    "k_2b_for = 5.5\n",
    "k_2b_rev = 5.5\n",
    "k_1b_for = 1\n",
    "k_2a_for = 1\n",
    "k_1b_rev = 0.4\n",
    "k_2a_rev = 0.4\n",
    "k_3_for = 8.6\n",
    "k_3_rev = 0.01\n",
    "k_4_for = 0.05\n",
    "delta_t = 1e-2\n",
    "num_steps = 30000\n",
    "# Initialize variables.\n",
    "time = np.zeros(num_steps)\n",
    "state_zero = np.zeros(num_steps)\n",
    "state_zero[0] = 2\n",
    "state_1a = np.zeros(num_steps)\n",
    "state_1b = np.zeros(num_steps)\n",
    "state_2 = np.zeros(num_steps)\n",
    "state_3 = np.zeros(num_steps)\n",
    "state_4 = np.zeros(num_steps)\n",
    "for i in range(0, num_steps - 1):\n",
    "    # Calculate differentials.\n",
    "    delta_state_zero = k_1a_rev * state_1a[i] + k_1b_rev * state_1b[i] \\\n",
    "        - k_1a_for * state_zero[i] \\\n",
    "        - k_1b_for * state_zero[i]\n",
    "    delta_state_1a = k_1a_for * state_zero[i] + k_2a_rev * state_2[i] \\\n",
    "        - k_1a_rev * state_1a[i] - k_2a_for * state_1a[i]\n",
    "    delta_state_1b = k_1b_for * state_zero[i] + k_2b_rev * state_2[i] \\\n",
    "        - k_1b_rev * state_1b[i] - k_2b_for * state_1b[i]\n",
    "    delta_state_2 = k_2a_for * state_1a[i] + k_2b_for * state_1b[i] \\\n",
    "        + k_3_rev * state_3[i] - k_2a_rev * state_2[i] \\\n",
    "        - k_2b_rev * state_2[i] - k_3_for * state_2[i]\n",
    "    delta_state_3 = k_3_for * state_2[i] - k_4_for * state_3[i] \\\n",
    "        - k_3_rev * state_3[i]\n",
    "    delta_state_4 = k_4_for * state_3[i]\n",
    "    # Update states.\n",
    "    state_zero[i + 1] = state_zero[i] + delta_state_zero * delta_t\n",
    "    state_1a[i + 1] = state_1a[i] + delta_state_1a * delta_t\n",
    "    state_1b[i + 1] = state_1b[i] + delta_state_1b * delta_t\n",
    "    state_2[i + 1] = state_2[i] + delta_state_2 * delta_t\n",
    "    state_3[i + 1] = state_3[i] + delta_state_3 * delta_t\n",
    "    state_4[i + 1] = state_4[i] + delta_state_4 * delta_t\n",
    "    time[i + 1] = time[i] + delta_t\n",
    "# Plot results.\n",
    "plt.plot(time, state_4)\n",
    "plt.ylabel(r'Concentration ($\\mu$M)')\n",
    "plt.xlabel('Time (s)')\n",
    "plt.show()"
   ]
  }
 ],
 "metadata": {
  "kernelspec": {
   "display_name": "Python 3",
   "language": "python",
   "name": "python3"
  },
  "language_info": {
   "codemirror_mode": {
    "name": "ipython",
    "version": 3
   },
   "file_extension": ".py",
   "mimetype": "text/x-python",
   "name": "python",
   "nbconvert_exporter": "python",
   "pygments_lexer": "ipython3",
   "version": "3.6.1"
  }
 },
 "nbformat": 4,
 "nbformat_minor": 2
}
