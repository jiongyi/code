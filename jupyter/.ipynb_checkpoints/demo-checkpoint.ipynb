{
 "cells": [
  {
   "cell_type": "markdown",
   "metadata": {},
   "source": [
    "# Concentration of free barbed-ends and actin-occupied WH<sub>2</sub> domains at equilibrium\n",
    "\n",
    "Let $[E]$ be the concentration of free barbed-ends, $k_N$ the nucleation rate, $[WA]$ the concentration of actin-occupied WH<sub>2</sub> domains, and $k_C$ the capping rate. Then, the rate of change in the concentration of free barbed ends is:\n",
    "\n",
    "$\\frac{d[E]}{dt} = k_N [E][WA] - k_C [E]$\n",
    "\n",
    "Further, if $k_P$ is the rate of actin polymerization, $k_A$ the actin association rate of the WH<sub>2</sub> domains, and $W_0$ the concentration of WH<sub>2</sub> domains, then the rate of change in $[WA]$ is:\n",
    "\n",
    "$\\frac{d[WA]}{dt} = -k_N [E][WA] - k_P [E][WA] + k_A (W_0 - [WA])$"
   ]
  }
 ],
 "metadata": {
  "kernelspec": {
   "display_name": "Python 3",
   "language": "python",
   "name": "python3"
  },
  "language_info": {
   "codemirror_mode": {
    "name": "ipython",
    "version": 3
   },
   "file_extension": ".py",
   "mimetype": "text/x-python",
   "name": "python",
   "nbconvert_exporter": "python",
   "pygments_lexer": "ipython3",
   "version": "3.6.0"
  }
 },
 "nbformat": 4,
 "nbformat_minor": 2
}
