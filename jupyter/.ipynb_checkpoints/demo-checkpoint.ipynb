{
 "cells": [
  {
   "cell_type": "markdown",
   "metadata": {},
   "source": [
    "# Concentration of free barbed-ends and actin-occupied WH<sub>2</sub> domains at equilibrium\n",
    "\n",
    "Let $[E]$ be the concentration of free barbed-ends, $k_N$ the nucleation rate, $[WA]$ the concentration of actin-occupied WH<sub>2</sub> domains, and $k_C$ the capping rate. Then, the rate of change in the concentration of free barbed ends is:\n",
    "\n",
    "$$\\frac{d[E]}{dt} = k_N [E][WA] - k_C [E]$$\n",
    "\n",
    "Further, if $k_P$ is the rate of actin polymerization, $k_A$ the actin association rate of the WH<sub>2</sub> domains, and $W_0$ the concentration of WH<sub>2</sub> domains, then the rate of change in $[WA]$ is:\n",
    "\n",
    "$$\\frac{d[WA]}{dt} = -k_N [E][WA] - k_P [E][WA] + k_A (W_0 - [WA])$$\n",
    "\n",
    "As long as $[E]$ is never zero, at equilibrium:\n",
    "\n",
    "$$[WA]_{eq} = \\frac{k_C}{k_N}$$\n",
    "\n",
    "$$[E]_{eq} = W_0 (\\frac{k_A}{k_C}) (\\frac{k_N-\\frac{k_C}{W_0}}{k_N+k_P})$$\n",
    "\n",
    "We know that $k_P >> k_N$ and, at high densities of NPF, $k_N >> k_C / W_0$ . Under these conditions, the\n",
    "concentration of free barbed ends is:\n",
    "\n",
    "$$[E]_{eq} = W_0 (\\frac{k_A}{k_C}) (\\frac{k_N}{k_P})$$\n",
    "\n",
    "The time evolution of the concentrations can be approximated by forward differencing:"
   ]
  },
  {
   "cell_type": "code",
   "execution_count": 30,
   "metadata": {
    "collapsed": false
   },
   "outputs": [
    {
     "data": {
      "image/png": "[encoded data removed]",
      "text/plain": [
       "<matplotlib.figure.Figure at 0x7f1499da4550>"
      ]
     },
     "metadata": {},
     "output_type": "display_data"
    }
   ],
   "source": [
    "import numpy as np\n",
    "import matplotlib.pyplot as plt\n",
    "\n",
    "def Concentration( WZero, kActin, kNuc, kPol, kCap ):\n",
    "    N = 1000\n",
    "    dt = 1e-1\n",
    "    t = np.arange( 0, N * dt, dt )\n",
    "    E = np.zeros( N )\n",
    "    WA = np.zeros( N )\n",
    "    E[0] = 0.01\n",
    "    \n",
    "    for i in range(0, N - 1):\n",
    "        dEdt = kNuc * E[i] * WA[i] - kCap * E[i]\n",
    "        dWAdt = -kNuc * E[i] * WA[i] - kPol * E[i] * WA[i] + kActin * (WZero - WA[i])\n",
    "        E[i + 1] = E[i] + dEdt * dt\n",
    "        WA[i + 1] = WA[i] + dWAdt * dt\n",
    "        \n",
    "    plt.plot(t, E, t, WA)\n",
    "    plt.xlabel('Time')\n",
    "    plt.ylabel('Concentration')\n",
    "    plt.show()\n",
    "    \n",
    "    return\n",
    "\n",
    "Concentration( 1, 1, 10, 100, 0.5 )"
   ]
  }
 ],
 "metadata": {
  "kernelspec": {
   "display_name": "Python 3",
   "language": "python",
   "name": "python3"
  },
  "language_info": {
   "codemirror_mode": {
    "name": "ipython",
    "version": 3
   },
   "file_extension": ".py",
   "mimetype": "text/x-python",
   "name": "python",
   "nbconvert_exporter": "python",
   "pygments_lexer": "ipython3",
   "version": "3.6.0"
  }
 },
 "nbformat": 4,
 "nbformat_minor": 2
}
